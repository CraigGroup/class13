{
 "cells": [
  {
   "cell_type": "markdown",
   "metadata": {
    "id": "834t49zymVdO"
   },
   "source": [
    "# In-class exercises Class 12\n",
    "\n",
    "---\n",
    "\n",
    "Last time we learned about functions in Python - I use them all the time, and they are super convenient.  Today we will talk about classes.  Python is an object-oriented programming language.  This basically means you can define your own types, and that is done with classes.  Honestly, I don't use classes near as often as functions, but for certain types of problems they can provide utility to make a complex algorithm very simple, by breaking the problem up into types where each type has certain attributes.  Consider a particle.  The simple particle may have a position, a velocity and a mass.  We could write a program that just defines these qualities seperately for each particle we want to consider, or we could solve the problem in an elegant way using classes:"
   ]
  },
  {
   "cell_type": "code",
   "execution_count": 3,
   "metadata": {},
   "outputs": [],
   "source": [
    "import numpy as np\n",
    "\n",
    "class Particle(object):\n",
    "    \"\"\" Represents a particle: position, velocity, mass\"\"\"\n",
    "\n",
    "    #The init function is called everytime we crate a particle instance\n",
    "    def __init__(self, x = 0., y = 0.,\n",
    "                      vx = 0., vy = 0., m = 1.):  #Our particle parameters are set via the __init__ special function.\n",
    "                                        \n",
    "        self.x = x\n",
    "        self.y = y\n",
    "\n",
    "\n",
    "        self.vx = vx\n",
    "        self.vy = vy\n",
    "\n",
    "        self.mass = m\n",
    "\n",
    "    #These functions are members of the particle class\n",
    "    def print_p(self):\n",
    "        print_string=f\"Position:{self.x},{self.y} \\nVelocity: {self.vx},{self.vy}\"\n",
    "        print(print_string)\n",
    "        \n",
    "    def find_r(self):\n",
    "        r=np.sqrt(self.x**2+self.y**2)\n",
    "        return(r)\n",
    "\n"
   ]
  },
  {
   "cell_type": "markdown",
   "metadata": {},
   "source": [
    "Let's see if the new type exists..."
   ]
  },
  {
   "cell_type": "code",
   "execution_count": 4,
   "metadata": {},
   "outputs": [
    {
     "name": "stdout",
     "output_type": "stream",
     "text": [
      "<class '__main__.Particle'>\n"
     ]
    }
   ],
   "source": [
    "print(Particle)"
   ]
  },
  {
   "cell_type": "markdown",
   "metadata": {},
   "source": [
    "Now, we can \"create an instance\" of our particle:"
   ]
  },
  {
   "cell_type": "code",
   "execution_count": 5,
   "metadata": {},
   "outputs": [],
   "source": [
    "p=Particle()  #Create an instance of our particle class\n",
    "p.x=3         #Set the particles parameters\n",
    "p.y=4\n",
    "p.vx=1\n",
    "p.vy=2\n",
    "p.mass=1.0\n"
   ]
  },
  {
   "cell_type": "code",
   "execution_count": 6,
   "metadata": {},
   "outputs": [
    {
     "name": "stdout",
     "output_type": "stream",
     "text": [
      "3\n"
     ]
    }
   ],
   "source": [
    "print(p.x)\n"
   ]
  },
  {
   "cell_type": "code",
   "execution_count": 7,
   "metadata": {},
   "outputs": [
    {
     "name": "stdout",
     "output_type": "stream",
     "text": [
      "5.0\n"
     ]
    }
   ],
   "source": [
    "r=np.sqrt(p.x**2+p.y**2)  #The distance our particle is from the origin.\n",
    "print(r)"
   ]
  },
  {
   "cell_type": "markdown",
   "metadata": {},
   "source": [
    "Or, we may do the same thing by passing the variables in when initializing the particle and use the function that we added.  To use the functions from a class (method) we invoke the \".\" notation:"
   ]
  },
  {
   "cell_type": "code",
   "execution_count": 8,
   "metadata": {},
   "outputs": [
    {
     "name": "stdout",
     "output_type": "stream",
     "text": [
      "Position:3,4 \n",
      "Velocity: 1,2\n",
      "5.0\n"
     ]
    }
   ],
   "source": [
    "p2=Particle(3,4,1,2,1)\n",
    "p2.print_p()\n",
    "r=p2.find_r()\n",
    "print(r)\n"
   ]
  },
  {
   "cell_type": "markdown",
   "metadata": {},
   "source": [
    "We can also use methods from the particle class directly if we pass in a particle:"
   ]
  },
  {
   "cell_type": "code",
   "execution_count": 9,
   "metadata": {},
   "outputs": [
    {
     "data": {
      "text/plain": [
       "5.0"
      ]
     },
     "execution_count": 9,
     "metadata": {},
     "output_type": "execute_result"
    }
   ],
   "source": [
    "Particle.find_r(p2)\n"
   ]
  },
  {
   "cell_type": "markdown",
   "metadata": {},
   "source": [
    "## **EXERCISE 1**:  \n",
    "<span style=\"color:red\"> Define a new class called ParticleA, that has all of the functionality of Particle, but also includes force (fx,fy) as an attribute; add it to the print function; and include a method to print the magnitude and the magnitude of the velocity.  Create an instance of your ParticleA class, print attributes to the screen, and print the magnitude of the force sqrt(fx^2+fy^2)</red>"
   ]
  },
  {
   "cell_type": "code",
   "execution_count": 10,
   "metadata": {},
   "outputs": [],
   "source": [
    "#Write your class here (copy and paste my class from above and edit it!)\n",
    "#Create an instance of your class and test it."
   ]
  },
  {
   "cell_type": "markdown",
   "metadata": {},
   "source": [
    "We an always print all attributes of our class using the pprint module (pretty print):  "
   ]
  },
  {
   "cell_type": "code",
   "execution_count": 12,
   "metadata": {},
   "outputs": [
    {
     "name": "stdout",
     "output_type": "stream",
     "text": [
      "{'mass': 1.0, 'vx': 1, 'vy': 2, 'x': 3, 'y': 4}\n"
     ]
    }
   ],
   "source": [
    "from pprint import pprint\n",
    "pprint(vars(p))\n"
   ]
  },
  {
   "cell_type": "raw",
   "metadata": {},
   "source": [
    "__init__ is a specail method that is called every time we create an instance of the class.  Another special method is __str__.  It is called if we attempt to print our particle.  If we define an __str__ method in our class it will be called if we \"print(p)\".  Let's try it..."
   ]
  },
  {
   "cell_type": "code",
   "execution_count": 12,
   "metadata": {},
   "outputs": [],
   "source": [
    "class Particle(object):\n",
    "    \"\"\" Represents a particle: position, velocity, mass\"\"\"\n",
    "\n",
    "    #The init function is called everytime we crate a particle instance\n",
    "    def __init__(self, x = 0., y = 0.,\n",
    "                      vx = 0., vy = 0., m = 1.):  #Our particle parameters are set via the __init__ special function.\n",
    "                                        \n",
    "        self.x = x\n",
    "        self.y = y\n",
    "        self.vx = vx\n",
    "        self.vy = vy\n",
    "        \n",
    "\n",
    "        self.mass = m\n",
    "\n",
    "    #These functions are members of the particle class\n",
    "    def __str__(self):\n",
    "        print(\"This is coming from our __str__ method\")\n",
    "        print_string=f\"Position:{self.x},{self.y}\\nVelocity: {self.vx},{self.vy}\"\n",
    "        return(print_string)\n",
    "        \n",
    "    def find_r(self):\n",
    "        r=np.sqrt(self.x**2+self.y**2)\n",
    "        return(r)"
   ]
  },
  {
   "cell_type": "code",
   "execution_count": 13,
   "metadata": {},
   "outputs": [
    {
     "name": "stdout",
     "output_type": "stream",
     "text": [
      "This is coming from our __str__ method\n",
      "Position:3,4\n",
      "Velocity: 1,2\n"
     ]
    }
   ],
   "source": [
    "p2=Particle(3,4,1,2,1)\n",
    "print(p2)"
   ]
  },
  {
   "cell_type": "markdown",
   "metadata": {},
   "source": [
    "It worked!  We won't do a lot with classes, but keep in mind that you can make one, and most of the tools that we will learn to use for data science  are built on a class in python!  "
   ]
  },
  {
   "cell_type": "markdown",
   "metadata": {},
   "source": [
    "## **EXERCISE 2**:  \n",
    "<span style=\"color:red\"> Modify your ParticleA class to use a \"__ str __\" method instead of print_p.  And show that it works by creating an instance of your ParticleA class, and then printing it.  </red>"
   ]
  },
  {
   "cell_type": "code",
   "execution_count": 14,
   "metadata": {},
   "outputs": [],
   "source": [
    "#put your code here....  "
   ]
  },
  {
   "cell_type": "markdown",
   "metadata": {},
   "source": [
    "1b) Based on what you learned in the Notebook: Write a python program (a script) called <username>_particle.py.  Put your particle class in this program and invoke an instance of the class from the main function.  Also \"print\" the instance of the class. Guess what?  Classes can be imported in python just like functions.  If you have extra time, try to import your class into another program and see if you can create an instance of the class. "
   ]
  }
 ],
 "metadata": {
  "kernelspec": {
   "display_name": "Python 3 (ipykernel)",
   "language": "python",
   "name": "python3"
  },
  "language_info": {
   "codemirror_mode": {
    "name": "ipython",
    "version": 3
   },
   "file_extension": ".py",
   "mimetype": "text/x-python",
   "name": "python",
   "nbconvert_exporter": "python",
   "pygments_lexer": "ipython3",
   "version": "3.8.8"
  }
 },
 "nbformat": 4,
 "nbformat_minor": 4
}
